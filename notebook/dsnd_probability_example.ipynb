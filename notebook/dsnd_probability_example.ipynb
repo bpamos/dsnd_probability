{
 "cells": [
  {
   "cell_type": "markdown",
   "metadata": {},
   "source": [
    "# Example of Probability Package"
   ]
  },
  {
   "cell_type": "code",
   "execution_count": 1,
   "metadata": {},
   "outputs": [],
   "source": [
    "import time\n",
    "import os\n",
    "os.chdir(\"C:/Users/BpAmos/Documents/repos/dsnd_probability/\")\n",
    "\n",
    "from dsnd_probability.Binomialdistribution import *\n",
    "from dsnd_probability.Gaussiandistribution import *\n",
    "from dsnd_probability.Generaldistribution import *"
   ]
  },
  {
   "cell_type": "code",
   "execution_count": null,
   "metadata": {},
   "outputs": [],
   "source": [
    "myGaussian = Gaussian(50,7)\n",
    "myGaussian"
   ]
  },
  {
   "cell_type": "code",
   "execution_count": 4,
   "metadata": {},
   "outputs": [],
   "source": [
    "myData = [1, 3, 99, 100, 120, 32, 330, 23, 76, 44, 31]\n",
    "gaussian_data = Gaussian()\n",
    "gaussian_data.read_data_file(myData)"
   ]
  },
  {
   "cell_type": "code",
   "execution_count": 3,
   "metadata": {},
   "outputs": [],
   "source": [
    "path = 'C:/Users/BpAmos/Documents/repos/dsnd_probability/data/numbers.txt'\n",
    "\n",
    "gaussian_data = Gaussian()\n",
    "gaussian_data.read_data_file(path)"
   ]
  },
  {
   "cell_type": "code",
   "execution_count": 6,
   "metadata": {},
   "outputs": [
    {
     "data": {
      "text/plain": [
       "[1, 3, 99, 100, 120, 32, 330, 23, 76, 44, 31, 66]"
      ]
     },
     "execution_count": 6,
     "metadata": {},
     "output_type": "execute_result"
    }
   ],
   "source": [
    "gaussian_data.data"
   ]
  },
  {
   "cell_type": "code",
   "execution_count": 5,
   "metadata": {},
   "outputs": [
    {
     "data": {
      "text/plain": [
       "5.052271083536893e-15"
      ]
     },
     "execution_count": 5,
     "metadata": {},
     "output_type": "execute_result"
    }
   ],
   "source": [
    "myG_pdf = gaussian_data.pdf(8)\n",
    "myG_pdf"
   ]
  },
  {
   "cell_type": "code",
   "execution_count": 7,
   "metadata": {},
   "outputs": [
    {
     "data": {
      "image/png": "[encoded data removed]",
      "text/plain": [
       "<Figure size 432x288 with 1 Axes>"
      ]
     },
     "metadata": {
      "needs_background": "light"
     },
     "output_type": "display_data"
    }
   ],
   "source": [
    "gaussian_data.plot_histogram()"
   ]
  },
  {
   "cell_type": "code",
   "execution_count": 18,
   "metadata": {},
   "outputs": [
    {
     "data": {
      "image/png": "[encoded data removed]",
      "text/plain": [
       "<Figure size 432x288 with 2 Axes>"
      ]
     },
     "metadata": {
      "needs_background": "light"
     },
     "output_type": "display_data"
    },
    {
     "data": {
      "text/plain": [
       "([1.0,\n",
       "  7.58,\n",
       "  14.16,\n",
       "  20.740000000000002,\n",
       "  27.32,\n",
       "  33.9,\n",
       "  40.480000000000004,\n",
       "  47.06,\n",
       "  53.64,\n",
       "  60.22,\n",
       "  66.8,\n",
       "  73.38,\n",
       "  79.96000000000001,\n",
       "  86.54,\n",
       "  93.12,\n",
       "  99.7,\n",
       "  106.28,\n",
       "  112.86,\n",
       "  119.44,\n",
       "  126.02,\n",
       "  132.6,\n",
       "  139.18,\n",
       "  145.76,\n",
       "  152.34,\n",
       "  158.92000000000002,\n",
       "  165.5,\n",
       "  172.08,\n",
       "  178.66,\n",
       "  185.24,\n",
       "  191.82,\n",
       "  198.4,\n",
       "  204.98,\n",
       "  211.56,\n",
       "  218.14000000000001,\n",
       "  224.72,\n",
       "  231.3,\n",
       "  237.88,\n",
       "  244.46,\n",
       "  251.04,\n",
       "  257.62,\n",
       "  264.2,\n",
       "  270.78000000000003,\n",
       "  277.36,\n",
       "  283.94,\n",
       "  290.52,\n",
       "  297.1,\n",
       "  303.68,\n",
       "  310.26,\n",
       "  316.84000000000003,\n",
       "  323.42],\n",
       " [0.24197072451914337,\n",
       "  1.3317151204632704e-13,\n",
       "  1.1525830551905267e-44,\n",
       "  1.5687203263353076e-94,\n",
       "  3.3576174319911265e-163,\n",
       "  1.1301323110638413e-250,\n",
       "  0.0,\n",
       "  0.0,\n",
       "  0.0,\n",
       "  0.0,\n",
       "  0.0,\n",
       "  0.0,\n",
       "  0.0,\n",
       "  0.0,\n",
       "  0.0,\n",
       "  0.0,\n",
       "  0.0,\n",
       "  0.0,\n",
       "  0.0,\n",
       "  0.0,\n",
       "  0.0,\n",
       "  0.0,\n",
       "  0.0,\n",
       "  0.0,\n",
       "  0.0,\n",
       "  0.0,\n",
       "  0.0,\n",
       "  0.0,\n",
       "  0.0,\n",
       "  0.0,\n",
       "  0.0,\n",
       "  0.0,\n",
       "  0.0,\n",
       "  0.0,\n",
       "  0.0,\n",
       "  0.0,\n",
       "  0.0,\n",
       "  0.0,\n",
       "  0.0,\n",
       "  0.0,\n",
       "  0.0,\n",
       "  0.0,\n",
       "  0.0,\n",
       "  0.0,\n",
       "  0.0,\n",
       "  0.0,\n",
       "  0.0,\n",
       "  0.0,\n",
       "  0.0,\n",
       "  0.0])"
      ]
     },
     "execution_count": 18,
     "metadata": {},
     "output_type": "execute_result"
    }
   ],
   "source": [
    "gaussian_data.plot_histogram_pdf(50)"
   ]
  },
  {
   "cell_type": "code",
   "execution_count": 31,
   "metadata": {},
   "outputs": [
    {
     "data": {
      "text/plain": [
       "mean 10.0, standard deviation 2.449489742783178, p 0.4, n 25"
      ]
     },
     "execution_count": 31,
     "metadata": {},
     "output_type": "execute_result"
    }
   ],
   "source": [
    "myBinomial = Binomial(.4,25)\n",
    "myBinomial"
   ]
  },
  {
   "cell_type": "code",
   "execution_count": 28,
   "metadata": {},
   "outputs": [
    {
     "data": {
      "text/plain": [
       "4.573608051498144e-08"
      ]
     },
     "execution_count": 28,
     "metadata": {},
     "output_type": "execute_result"
    }
   ],
   "source": [
    "myBinomial.pdf(2)"
   ]
  },
  {
   "cell_type": "code",
   "execution_count": 29,
   "metadata": {},
   "outputs": [
    {
     "data": {
      "image/png": "[encoded data removed]",
      "text/plain": [
       "<Figure size 432x288 with 1 Axes>"
      ]
     },
     "metadata": {
      "needs_background": "light"
     },
     "output_type": "display_data"
    }
   ],
   "source": [
    "myBinomial.plot_bar()"
   ]
  },
  {
   "cell_type": "code",
   "execution_count": 30,
   "metadata": {},
   "outputs": [
    {
     "data": {
      "image/png": "[encoded data removed]",
      "text/plain": [
       "<Figure size 432x288 with 1 Axes>"
      ]
     },
     "metadata": {
      "needs_background": "light"
     },
     "output_type": "display_data"
    },
    {
     "data": {
      "text/plain": [
       "([0,\n",
       "  1,\n",
       "  2,\n",
       "  3,\n",
       "  4,\n",
       "  5,\n",
       "  6,\n",
       "  7,\n",
       "  8,\n",
       "  9,\n",
       "  10,\n",
       "  11,\n",
       "  12,\n",
       "  13,\n",
       "  14,\n",
       "  15,\n",
       "  16,\n",
       "  17,\n",
       "  18,\n",
       "  19,\n",
       "  20,\n",
       "  21,\n",
       "  22,\n",
       "  23,\n",
       "  24,\n",
       "  25,\n",
       "  26,\n",
       "  27,\n",
       "  28,\n",
       "  29,\n",
       "  30,\n",
       "  31,\n",
       "  32,\n",
       "  33,\n",
       "  34,\n",
       "  35,\n",
       "  36,\n",
       "  37,\n",
       "  38,\n",
       "  39,\n",
       "  40,\n",
       "  41,\n",
       "  42,\n",
       "  43,\n",
       "  44,\n",
       "  45],\n",
       " [1.039456375340487e-10,\n",
       "  3.1183691260214613e-09,\n",
       "  4.573608051498144e-08,\n",
       "  4.370336582542671e-07,\n",
       "  3.05923560777987e-06,\n",
       "  1.6723821322529958e-05,\n",
       "  7.432809476679982e-05,\n",
       "  0.00027607578056239936,\n",
       "  0.0008742399717809314,\n",
       "  0.0023960651078440342,\n",
       "  0.0057505562588256835,\n",
       "  0.012198149639933268,\n",
       "  0.023040949319873952,\n",
       "  0.038992375772094384,\n",
       "  0.05941695355747717,\n",
       "  0.08186335823474633,\n",
       "  0.1023291977934329,\n",
       "  0.11637438180429627,\n",
       "  0.12068454409334428,\n",
       "  0.11433272598316828,\n",
       "  0.09908836251874586,\n",
       "  0.07864155755456022,\n",
       "  0.057193860039680154,\n",
       "  0.038129240026453445,\n",
       "  0.02330120223838822,\n",
       "  0.013048673253497404,\n",
       "  0.006691627309485848,\n",
       "  0.003139281947660028,\n",
       "  0.0013454065489971548,\n",
       "  0.000525791065125325,\n",
       "  0.00018694793426678223,\n",
       "  6.03057852473491e-05,\n",
       "  1.758918736381016e-05,\n",
       "  4.619382539990546e-06,\n",
       "  1.0869135388213053e-06,\n",
       "  2.277342652768449e-07,\n",
       "  4.217301208830462e-08,\n",
       "  6.8388668251304805e-09,\n",
       "  9.598409579130498e-10,\n",
       "  1.1485276419472393e-10,\n",
       "  1.1485276419472393e-11,\n",
       "  9.337623105262111e-13,\n",
       "  5.92864959064261e-14,\n",
       "  2.7575114375081914e-15,\n",
       "  8.356095265176336e-17,\n",
       "  1.2379400392853833e-18])"
      ]
     },
     "execution_count": 30,
     "metadata": {},
     "output_type": "execute_result"
    }
   ],
   "source": [
    "myBinomial.plot_bar_pdf()"
   ]
  },
  {
   "cell_type": "code",
   "execution_count": null,
   "metadata": {},
   "outputs": [],
   "source": []
  }
 ],
 "metadata": {
  "kernelspec": {
   "display_name": "Python 3",
   "language": "python",
   "name": "python3"
  },
  "toc": {
   "base_numbering": 1,
   "nav_menu": {},
   "number_sections": true,
   "sideBar": true,
   "skip_h1_title": false,
   "title_cell": "Table of Contents",
   "title_sidebar": "Contents",
   "toc_cell": false,
   "toc_position": {},
   "toc_section_display": true,
   "toc_window_display": false
  },
  "varInspector": {
   "cols": {
    "lenName": 16,
    "lenType": 16,
    "lenVar": 40
   },
   "kernels_config": {
    "python": {
     "delete_cmd_postfix": "",
     "delete_cmd_prefix": "del ",
     "library": "var_list.py",
     "varRefreshCmd": "print(var_dic_list())"
    },
    "r": {
     "delete_cmd_postfix": ") ",
     "delete_cmd_prefix": "rm(",
     "library": "var_list.r",
     "varRefreshCmd": "cat(var_dic_list()) "
    }
   },
   "types_to_exclude": [
    "module",
    "function",
    "builtin_function_or_method",
    "instance",
    "_Feature"
   ],
   "window_display": false
  }
 },
 "nbformat": 4,
 "nbformat_minor": 4
}
